{
 "cells": [
  {
   "cell_type": "markdown",
   "metadata": {},
   "source": [
    "Find-S Algorithm"
   ]
  },
  {
   "cell_type": "code",
   "execution_count": 1,
   "metadata": {},
   "outputs": [
    {
     "name": "stdout",
     "output_type": "stream",
     "text": [
      "The number of rows and columns are:  5 and 6\n",
      "The dataset in training sample is \n",
      "\n",
      "Sky AirTemp Humidity Wind Water Forecast EnjoyWaterSport\n",
      "[['Sunny' 'Warm' 'Normal' 'Strong' 'Warm' 'Same' 'yes']\n",
      " ['Sunny' 'Warm' 'High' 'Strong' 'Warm' 'Same' 'yes']\n",
      " ['Rainy' 'Cold' 'High' 'Strong' 'Warm' 'Change' 'No']\n",
      " ['Sunny' 'Warm' 'High' 'Strong' 'Cool' 'Change' 'yes']\n",
      " ['Rainy' 'Warm' 'High' 'Strong' 'Cool' 'Change' 'yes']]\n",
      "\n",
      "Initialized more specific hypothesis: \n",
      " ['Φ' 'Φ' 'Φ' 'Φ' 'Φ' 'Φ']\n",
      "\n",
      "Hypothesis after processing its first training example ['Sunny' 'Warm' 'Normal' 'Strong' 'Warm' 'Same']\n",
      "\n",
      "Intermediate Hypothesis: \n",
      "\n",
      "['Sunny' 'Warm' '?' 'Strong' 'Warm' 'Same']\n",
      "['?' '?' '?' 'Strong' 'Warm' '?']\n",
      "['?' '?' '?' 'Strong' '?' '?']\n",
      "['?' '?' '?' 'Strong' '?' '?']\n",
      "\n",
      "Final maximum specific hypothesis: \n",
      " ['?' '?' '?' 'Strong' '?' '?']\n",
      "New instance values\n",
      "ENTER ATTRIBUTE VALUES FOR SKY, AIRTEMP, HUMIDITY, WIND, WATER, FORECAST\n",
      "Enter attribute values\tSunny\n",
      "Enter attribute values\tWarm\n",
      "Enter attribute values\tNormal\n",
      "Enter attribute values\tStrong\n",
      "Enter attribute values\tCool\n",
      "Enter attribute values\tChange\n",
      "The given instance is  ['Sunny' 'Warm' 'Normal' 'Strong' 'Cool' 'Change']\n",
      "\n",
      "The assigned labl for ENJOYING WATER SPORT is\n",
      "\n",
      "YES\n"
     ]
    }
   ],
   "source": [
    "import numpy as np\n",
    "x = np.array([['Sunny', 'Warm', 'Normal', 'Strong', 'Warm', 'Same', 'yes'],\n",
    "             ['Sunny', 'Warm', 'High', 'Strong', 'Warm', 'Same', 'yes'],\n",
    "             ['Rainy', 'Cold', 'High', 'Strong', 'Warm', 'Change', 'No'],\n",
    "             ['Sunny', 'Warm', 'High', 'Strong', 'Cool', 'Change', 'yes'],\n",
    "             ['Rainy', 'Warm', 'High', 'Strong', 'Cool', 'Change', 'yes']])\n",
    "#print(x)\n",
    "#Calculating number of rows and columns\n",
    "r, c = x.shape\n",
    "print(\"The number of rows and columns are: \", r, \"and\", c-1)\n",
    "\n",
    "#Printing the dataset sample\n",
    "print(\"The dataset in training sample is \\n\")\n",
    "print(\"Sky AirTemp Humidity Wind Water Forecast EnjoyWaterSport\")\n",
    "print(x)\n",
    "\n",
    "#Initializing more specific Hypothesis\n",
    "s = []\n",
    "s = np.empty(c-1, dtype=object)\n",
    "for i in range(c-1):\n",
    "    s[i]=\"\\u03A6\"\n",
    "print(\"\\nInitialized more specific hypothesis: \\n\",s)\n",
    "\n",
    "#Processing First Training Sample\n",
    "for j in range(c-1):\n",
    "    s[j] = x[0,j]\n",
    "print(\"\\nHypothesis after processing its first training example\",s)\n",
    "print(\"\\nIntermediate Hypothesis: \\n\")\n",
    "for i in range(1,r):\n",
    "    if x[i, c-i] == 'No':\n",
    "        continue\n",
    "    else:\n",
    "        for j in range(c-1):\n",
    "            if x[i,j]!=s[j]:\n",
    "                s[j] = \"?\"\n",
    "    print(s)\n",
    "print(\"\\nFinal maximum specific hypothesis: \\n\", s)\n",
    "\n",
    "print(\"New instance values\")\n",
    "new=[]\n",
    "new = np.empty(c-1, dtype=object)\n",
    "print(\"ENTER ATTRIBUTE VALUES FOR SKY, AIRTEMP, HUMIDITY, WIND, WATER, FORECAST\")\n",
    "for i in range(c-1):\n",
    "    new[i] = input(\"Enter attribute values\\t\")\n",
    "print(\"The given instance is \", new)\n",
    "flag=1\n",
    "for i in range(c-1):\n",
    "    if s[i]!='?' and s[i]!=new[i]:\n",
    "        flag=0\n",
    "        break\n",
    "print(\"\\nThe assigned labl for ENJOYING WATER SPORT is\\n\")\n",
    "if flag==1:\n",
    "    print(\"YES\")\n",
    "else:\n",
    "    print(\"NO\")"
   ]
  },
  {
   "cell_type": "code",
   "execution_count": null,
   "metadata": {},
   "outputs": [],
   "source": []
  },
  {
   "cell_type": "code",
   "execution_count": null,
   "metadata": {},
   "outputs": [],
   "source": []
  }
 ],
 "metadata": {
  "kernelspec": {
   "display_name": "Python 3",
   "language": "python",
   "name": "python3"
  },
  "language_info": {
   "codemirror_mode": {
    "name": "ipython",
    "version": 3
   },
   "file_extension": ".py",
   "mimetype": "text/x-python",
   "name": "python",
   "nbconvert_exporter": "python",
   "pygments_lexer": "ipython3",
   "version": "3.7.0"
  }
 },
 "nbformat": 4,
 "nbformat_minor": 2
}
